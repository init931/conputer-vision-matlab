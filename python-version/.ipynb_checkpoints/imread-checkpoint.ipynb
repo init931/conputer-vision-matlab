{
 "cells": [
  {
   "cell_type": "code",
   "execution_count": 1,
   "id": "5093341d-9635-4b5d-ba26-c663088b5154",
   "metadata": {
    "tags": []
   },
   "outputs": [],
   "source": [
    "import matplotlib.pyplot as plt\n",
    "import matplotlib.image as mpimg\n",
    "\n",
    "# Load an image\n",
    "image = mpimg.imread('..//Orion JPG version.jpg')"
   ]
  },
  {
   "cell_type": "code",
   "execution_count": 2,
   "id": "7c28e29e-b3e7-4c77-aed1-a63d9f28577b",
   "metadata": {
    "tags": []
   },
   "outputs": [],
   "source": [
    "import cv2\n",
    "import matplotlib.pyplot as plt\n",
    "\n",
    "# Load the RGB image\n",
    "rgb_image = cv2.imread('../00406.jpg')"
   ]
  },
  {
   "cell_type": "code",
   "execution_count": 3,
   "id": "91b4118c-f78b-4d01-8bd2-f2231b3f911a",
   "metadata": {},
   "outputs": [],
   "source": [
    "from skimage import io, color\n",
    "import matplotlib.pyplot as plt\n",
    "\n",
    "# Load the RGB image\n",
    "rgb_image = io.imread('../00406.jpg')"
   ]
  },
  {
   "cell_type": "code",
   "execution_count": 4,
   "id": "d5a7fd18-ee97-4516-a9a4-f8cca8d67218",
   "metadata": {},
   "outputs": [],
   "source": [
    "from PIL import Image\n",
    "\n",
    "# Open the RGB image\n",
    "rgb_image = Image.open('../00406.jpg')"
   ]
  },
  {
   "cell_type": "code",
   "execution_count": null,
   "id": "dc7bbcd2-5211-43b6-8b9d-97943977a718",
   "metadata": {},
   "outputs": [],
   "source": []
  }
 ],
 "metadata": {
  "kernelspec": {
   "display_name": "Python 3 (ipykernel)",
   "language": "python",
   "name": "python3"
  },
  "language_info": {
   "codemirror_mode": {
    "name": "ipython",
    "version": 3
   },
   "file_extension": ".py",
   "mimetype": "text/x-python",
   "name": "python",
   "nbconvert_exporter": "python",
   "pygments_lexer": "ipython3",
   "version": "3.11.4"
  }
 },
 "nbformat": 4,
 "nbformat_minor": 5
}
