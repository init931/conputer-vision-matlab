{
 "cells": [
  {
   "cell_type": "code",
   "execution_count": 3,
   "id": "7791e6ab-5b65-4ff0-916d-2a307a9b3155",
   "metadata": {
    "tags": []
   },
   "outputs": [
    {
     "name": "stdout",
     "output_type": "stream",
     "text": [
      "end\n"
     ]
    }
   ],
   "source": [
    "import cv2 as cv\n",
    "import cv2\n",
    "import numpy as np\n",
    "from matplotlib import pyplot as plt\n",
    "\n",
    "# Open the video file (replace 'your_video.mp4' with the path to your video file)\n",
    "video_capture = cv2.VideoCapture('../Image Processing for Engineering and Science/Data/MathWorks Images/liquidVideo.mp4')\n",
    "\n",
    "# Define the codec to use for MPEG-4 video encoding\n",
    "fourcc = cv2.VideoWriter_fourcc(*'XVID')  # Use 'XVID' for MPEG-4 codec\n",
    "\n",
    "# Define the output video file name and properties\n",
    "output_file = 'output_video.mp4'  # Change the file name and extension as needed\n",
    "#frame_width = video_capture.get(cv2.CAP_PROP_FRAME_WIDTH)  # Width of the frames\n",
    "#frame_height = video_capture.get(cv2.CAP_PROP_FRAME_HEIGHT)  # Height of the frames\n",
    "#frame_rate = video_capture.get(cv2.CAP_PROP_FPS)  # Frames per second (adjust as needed)\n",
    "frame_width = 120\n",
    "frame_height = 216\n",
    "frame_rate = 10\n",
    "\n",
    "# Create a VideoWriter object with MPEG-4 encoding\n",
    "video_writer = cv2.VideoWriter(output_file, fourcc, frame_rate, (frame_width, frame_height))\n",
    "if (video_writer.isOpened() == False):  \n",
    "    print(\"Error video_writer video file\") \n",
    "\n",
    "# Check if the video file was opened successfully\n",
    "if not video_capture.isOpened():\n",
    "    print(\"Error: Could not open video file.\")\n",
    "    exit()\n",
    "\n",
    "while True:\n",
    "    # Read a frame from the video\n",
    "    ret, frame = video_capture.read()\n",
    "\n",
    "    # Check if the frame was read successfully\n",
    "    if not ret:\n",
    "        break  # Break the loop when the video ends\n",
    "\n",
    "    # Process the frame (you can perform various operations on each frame here)\n",
    "    BW = cv2.cvtColor(frame, cv2.COLOR_BGR2GRAY)\n",
    "    trues = BW > 68\n",
    "    BW = BW[trues]\n",
    "    \n",
    "    # opening\n",
    "    BW = cv2.morphologyEx(BW, cv2.MORPH_OPEN, np.ones((5, 5), np.uint8))\n",
    "    \n",
    "    # closing\n",
    "    BW = cv2.morphologyEx(BW, cv2.MORPH_CLOSE, np.ones((5, 5), np.uint8))\n",
    "    \n",
    "    image1 = frame.copy()\n",
    "    image2 = cv2.cvtColor(BW, cv2.COLOR_GRAY2BGR)\n",
    "    image2 = cv2.resize(image2, (image1.shape[1], image1.shape[0]))\n",
    "    stacked_image = np.hstack((image1, image2))\n",
    "    \n",
    "    video_writer.write(image2)\n",
    "\n",
    "# Release the video capture object and close any open windows\n",
    "video_capture.release()\n",
    "video_writer.release()\n",
    "print('end')"
   ]
  },
  {
   "cell_type": "code",
   "execution_count": 4,
   "id": "a0e3cd1d-c1cf-44c1-8702-8d9cbf12d78b",
   "metadata": {
    "tags": []
   },
   "outputs": [
    {
     "name": "stdout",
     "output_type": "stream",
     "text": [
      "10.0\n",
      "120.0\n",
      "216.0\n"
     ]
    }
   ],
   "source": [
    "video_capture = cv2.VideoCapture('../Image Processing for Engineering and Science/Data/MathWorks Images/liquidVideo.mp4')\n",
    "print(video_capture.get(cv2.CAP_PROP_FPS))\n",
    "print(video_capture.get(cv2.CAP_PROP_FRAME_WIDTH))\n",
    "print(video_capture.get(cv2.CAP_PROP_FRAME_HEIGHT))"
   ]
  },
  {
   "cell_type": "code",
   "execution_count": 5,
   "id": "79c48bd6-9c78-4a29-ae6d-5d2b8e4994e8",
   "metadata": {
    "tags": []
   },
   "outputs": [],
   "source": [
    "video_capture.release()"
   ]
  },
  {
   "cell_type": "code",
   "execution_count": null,
   "id": "f36490eb-0371-4a2b-b2c6-080f76c21b71",
   "metadata": {},
   "outputs": [],
   "source": []
  }
 ],
 "metadata": {
  "kernelspec": {
   "display_name": "Python 3 (ipykernel)",
   "language": "python",
   "name": "python3"
  },
  "language_info": {
   "codemirror_mode": {
    "name": "ipython",
    "version": 3
   },
   "file_extension": ".py",
   "mimetype": "text/x-python",
   "name": "python",
   "nbconvert_exporter": "python",
   "pygments_lexer": "ipython3",
   "version": "3.11.4"
  }
 },
 "nbformat": 4,
 "nbformat_minor": 5
}
