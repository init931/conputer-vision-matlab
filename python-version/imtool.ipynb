{
 "cells": [
  {
   "cell_type": "code",
   "execution_count": 1,
   "id": "2bead2eb-2c12-4ddc-814b-494aa516520f",
   "metadata": {
    "tags": []
   },
   "outputs": [],
   "source": [
    "import napari\n",
    "import numpy as np\n",
    "import matplotlib.image as mpimg\n",
    "\n",
    "# Load an image\n",
    "image = mpimg.imread('../Orion JPG version.jpg')\n",
    "\n",
    "# Create a sample image (you can replace this with your own image)\n",
    "#image_data = np.random.random((512, 512))\n",
    "\n",
    "# Create a Napari viewer and display the image\n",
    "viewer = napari.view_image(image)\n",
    "napari.run()"
   ]
  },
  {
   "cell_type": "code",
   "execution_count": null,
   "id": "fa094d12-ba89-4f89-b773-95b43aa6a3ed",
   "metadata": {},
   "outputs": [],
   "source": []
  }
 ],
 "metadata": {
  "kernelspec": {
   "display_name": "Python 3 (ipykernel)",
   "language": "python",
   "name": "python3"
  },
  "language_info": {
   "codemirror_mode": {
    "name": "ipython",
    "version": 3
   },
   "file_extension": ".py",
   "mimetype": "text/x-python",
   "name": "python",
   "nbconvert_exporter": "python",
   "pygments_lexer": "ipython3",
   "version": "3.11.4"
  }
 },
 "nbformat": 4,
 "nbformat_minor": 5
}
