{
 "cells": [
  {
   "cell_type": "code",
   "execution_count": 1,
   "id": "2ae97ca2-8ee9-455a-b782-bc458a03e86b",
   "metadata": {
    "tags": []
   },
   "outputs": [
    {
     "data": {
      "text/plain": [
       "True"
      ]
     },
     "execution_count": 1,
     "metadata": {},
     "output_type": "execute_result"
    }
   ],
   "source": [
    "import cv2\n",
    "\n",
    "# Load the RGB image\n",
    "rgb_image = cv2.imread('../00406.jpg')\n",
    "\n",
    "# Convert to grayscale\n",
    "gray_image = cv2.cvtColor(rgb_image, cv2.COLOR_BGR2GRAY)\n",
    "\n",
    "# Save the grayscale image if needed\n",
    "cv2.imwrite('cv2_grayscale_image.jpg', gray_image)"
   ]
  },
  {
   "cell_type": "code",
   "execution_count": 3,
   "id": "caeb10e0-b5c4-4ed9-834b-1cedf26faf86",
   "metadata": {
    "tags": []
   },
   "outputs": [],
   "source": [
    "from skimage import io, color\n",
    "\n",
    "# Load the RGB image\n",
    "rgb_image = io.imread('../00406.jpg')\n",
    "\n",
    "# Convert to grayscale\n",
    "gray_image = color.rgb2gray(rgb_image)\n",
    "\n",
    "# Convert the grayscale image to uint8\n",
    "gray_image_uint8 = (gray_image * 255).astype('uint8')\n",
    "\n",
    "# Save the grayscale image if needed\n",
    "io.imsave('ski_grayscale_image.jpg', gray_image_uint8)"
   ]
  },
  {
   "cell_type": "code",
   "execution_count": null,
   "id": "c102a43b-8e14-41be-87b4-2199ca53ab56",
   "metadata": {},
   "outputs": [],
   "source": []
  }
 ],
 "metadata": {
  "kernelspec": {
   "display_name": "Python 3 (ipykernel)",
   "language": "python",
   "name": "python3"
  },
  "language_info": {
   "codemirror_mode": {
    "name": "ipython",
    "version": 3
   },
   "file_extension": ".py",
   "mimetype": "text/x-python",
   "name": "python",
   "nbconvert_exporter": "python",
   "pygments_lexer": "ipython3",
   "version": "3.11.4"
  }
 },
 "nbformat": 4,
 "nbformat_minor": 5
}
